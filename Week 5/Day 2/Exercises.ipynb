{
 "cells": [
  {
   "cell_type": "code",
   "execution_count": null,
   "metadata": {},
   "outputs": [],
   "source": [
    "class Cat:\n",
    "    def __init__(self, cat_name, cat_age):\n",
    "        self.name = cat_name\n",
    "        self.age = cat_age\n",
    "        \n",
    "cat1 = Cat (\"Garfield\", 5)\n",
    "cat2 = Cat (\"Odie\", 6)\n",
    "cat3 = Cat (\"Mario\", 10)\n",
    "\n",
    "def find_oldest_cat(cats):\n",
    "    oldest_cat = cats[0]\n",
    "    for cat in cats[1:]:\n",
    "        if cat.age > oldest_cat.age:\n",
    "            oldest_cat = cat\n",
    "    return oldest_cat\n",
    "\n",
    "cat_list = [cat1, cat2, cat3]\n",
    "\n",
    "oldest = find_oldest_cat(cat_list)\n",
    "\n",
    "print(f\"The oldest cat is {oldest.name}, Age: {oldest.age}\")"
   ]
  },
  {
   "cell_type": "code",
   "execution_count": 22,
   "metadata": {},
   "outputs": [
    {
     "name": "stdout",
     "output_type": "stream",
     "text": [
      "David's dog's name is Rex and his height is 50 cm.\n",
      "Rex says woof!\n",
      "Rex jumps 40 cm high!\n"
     ]
    }
   ],
   "source": [
    "class Dog:\n",
    " def __init__(self, name, height):\n",
    "        self.name = name\n",
    "        self.height = height\n",
    "        \n",
    " def bark(self):\n",
    "        print(f\"{self.name} says woof!\")\n",
    "    \n",
    " def jump(self, height):\n",
    "        x = height * 2\n",
    "        print(f\"{self.name} jumps {x} cm high!\")\n",
    "\n",
    "davids_dog = Dog (\"Rex\",50)\n",
    "print(f\"David's dog's name is {davids_dog.name} and his height is {davids_dog.height} cm.\")\n",
    "\n",
    "davids_dog.bark()\n",
    "davids_dog.jump(height=20)\n",
    "\n",
    "sarahs_dog = Dog (\"Teacup\", 20)"
   ]
  }
 ],
 "metadata": {
  "kernelspec": {
   "display_name": "Python 3",
   "language": "python",
   "name": "python3"
  },
  "language_info": {
   "codemirror_mode": {
    "name": "ipython",
    "version": 3
   },
   "file_extension": ".py",
   "mimetype": "text/x-python",
   "name": "python",
   "nbconvert_exporter": "python",
   "pygments_lexer": "ipython3",
   "version": "3.11.9"
  }
 },
 "nbformat": 4,
 "nbformat_minor": 2
}
