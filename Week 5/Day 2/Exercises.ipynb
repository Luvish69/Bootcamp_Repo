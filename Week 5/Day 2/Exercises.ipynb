{
 "cells": [
  {
   "cell_type": "code",
   "execution_count": null,
   "metadata": {},
   "outputs": [],
   "source": [
    "class Cat:\n",
    "    def __init__(self, cat_name, cat_age):\n",
    "        self.name = cat_name\n",
    "        self.age = cat_age\n",
    "        \n",
    "cat1 = Cat (\"Garfield\", 5)\n",
    "cat2 = Cat (\"Odie\", 6)\n",
    "cat3 = Cat (\"Mario\", 10)\n",
    "\n",
    "def find_oldest_cat(cats):\n",
    "    oldest_cat = cats[0]\n",
    "    for cat in cats[1:]:\n",
    "        if cat.age > oldest_cat.age:\n",
    "            oldest_cat = cat\n",
    "    return oldest_cat\n",
    "\n",
    "cat_list = [cat1, cat2, cat3]\n",
    "\n",
    "oldest = find_oldest_cat(cat_list)\n",
    "\n",
    "print(f\"The oldest cat is {oldest.name}, Age: {oldest.age}\")"
   ]
  },
  {
   "cell_type": "code",
   "execution_count": 22,
   "metadata": {},
   "outputs": [
    {
     "name": "stdout",
     "output_type": "stream",
     "text": [
      "David's dog's name is Rex and his height is 50 cm.\n",
      "Rex says woof!\n",
      "Rex jumps 40 cm high!\n"
     ]
    }
   ],
   "source": [
    "class Dog:\n",
    " def __init__(self, name, height):\n",
    "        self.name = name\n",
    "        self.height = height\n",
    "        \n",
    " def bark(self):\n",
    "        print(f\"{self.name} says woof!\")\n",
    "    \n",
    " def jump(self, height):\n",
    "        x = height * 2\n",
    "        print(f\"{self.name} jumps {x} cm high!\")\n",
    "\n",
    "davids_dog = Dog (\"Rex\",50)\n",
    "print(f\"David's dog's name is {davids_dog.name} and his height is {davids_dog.height} cm.\")\n",
    "\n",
    "davids_dog.bark()\n",
    "davids_dog.jump(height=20)\n",
    "\n",
    "sarahs_dog = Dog (\"Teacup\", 20)"
   ]
  },
  {
   "cell_type": "code",
   "execution_count": 16,
   "metadata": {},
   "outputs": [],
   "source": [
    "class Song:\n",
    "    def _init_(self, lyrics):\n",
    "        self.lyrics = lyrics\n",
    "        \n",
    "    def sing_me_a_song(self):\n",
    "        for line in self.lyrics:\n",
    "            print(line)\n",
    "            \n",
    "        stairway = Song([\"There’s a lady who's sure\", \"all that glitters is gold\",\"and she’s buying a stairway to heaven\"])\n",
    "        stairway.sing_me_a_song()"
   ]
  },
  {
   "cell_type": "code",
   "execution_count": 18,
   "metadata": {},
   "outputs": [
    {
     "name": "stdout",
     "output_type": "stream",
     "text": [
      "Animals in the zoo: ['Elephant', 'Zebra', 'Lion', 'Tiger', 'Lemur', 'Giraffe']\n",
      "Animals in the zoo: ['Elephant', 'Zebra', 'Tiger', 'Lemur', 'Giraffe']\n",
      "Animals grouped by their first letter:\n",
      "E: Elephant\n",
      "G: Giraffe\n",
      "L: Lemur\n",
      "T: Tiger\n",
      "Z: Zebra\n"
     ]
    }
   ],
   "source": [
    "class Zoo:\n",
    "    def __init__(self, zoo_name):\n",
    "        self.name = zoo_name\n",
    "        self.animals = []\n",
    "\n",
    "    def add_animal(self, new_animal):\n",
    "        if new_animal not in self.animals:\n",
    "            self.animals.append(new_animal)\n",
    "\n",
    "    def get_animals(self):\n",
    "        print(\"Animals in the zoo:\", self.animals)\n",
    "\n",
    "    def sell_animal(self, animal_sold):\n",
    "        if animal_sold in self.animals:\n",
    "            self.animals.remove(animal_sold)\n",
    "        else:\n",
    "            print(f\"{animal_sold} is not in the zoo.\")\n",
    "\n",
    "    def sort_animals(self):\n",
    "        sorted_animals = sorted(self.animals)\n",
    "        grouped_animals = {}\n",
    "        for animal in sorted_animals:\n",
    "            first_letter = animal[0].upper()\n",
    "            if first_letter not in grouped_animals:\n",
    "                grouped_animals[first_letter] = []\n",
    "            grouped_animals[first_letter].append(animal)\n",
    "        return grouped_animals\n",
    "    \n",
    "    def get_groups(self):\n",
    "        grouped_animals = self.sort_animals()\n",
    "        print(\"Animals grouped by their first letter:\")\n",
    "        for letter, animals in grouped_animals.items():\n",
    "            print(f\"{letter}: {', '.join(animals)}\")\n",
    "            \n",
    "\n",
    "ramat_gan_safari = Zoo(\"Ramat Gan Safari\")\n",
    "\n",
    "ramat_gan_safari.add_animal(\"Elephant\")\n",
    "ramat_gan_safari.add_animal(\"Zebra\")\n",
    "ramat_gan_safari.add_animal(\"Lion\")\n",
    "ramat_gan_safari.add_animal(\"Tiger\")\n",
    "ramat_gan_safari.add_animal(\"Lemur\")\n",
    "ramat_gan_safari.add_animal(\"Giraffe\")\n",
    "\n",
    "ramat_gan_safari.get_animals()\n",
    "\n",
    "ramat_gan_safari.sell_animal(\"Lion\")\n",
    "ramat_gan_safari.get_animals()\n",
    "\n",
    "ramat_gan_safari.get_groups()"
   ]
  }
 ],
 "metadata": {
  "kernelspec": {
   "display_name": "Python 3",
   "language": "python",
   "name": "python3"
  },
  "language_info": {
   "codemirror_mode": {
    "name": "ipython",
    "version": 3
   },
   "file_extension": ".py",
   "mimetype": "text/x-python",
   "name": "python",
   "nbconvert_exporter": "python",
   "pygments_lexer": "ipython3",
   "version": "3.11.9"
  }
 },
 "nbformat": 4,
 "nbformat_minor": 2
}
