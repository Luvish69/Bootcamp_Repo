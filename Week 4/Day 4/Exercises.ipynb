{
 "cells": [
  {
   "cell_type": "code",
   "execution_count": null,
   "metadata": {},
   "outputs": [],
   "source": [
    "# 1\n",
    "\n",
    "import random\n",
    "\n",
    "def get_random_temp(Degrees_Celcius):\n",
    "    \n",
    "    \n",
    "\n",
    "\n",
    "\n",
    "\n",
    "def compare_numbers(user_number):\n",
    "    if 1 <= user_number <= 100:\n",
    "        random_number = random.randint(1, 100)\n",
    "        if user_number == random_number:\n",
    "            print(f\"Success! Both numbers are {user_number}.\")\n",
    "        else:\n",
    "            print(f\"Fail! Your number: {user_number}, Random number: {random_number}.\")\n",
    "    else:\n",
    "        print(\"Please enter a number between 1 and 100.\")\n",
    "        \n",
    "compare_numbers(20)"
   ]
  }
 ],
 "metadata": {
  "language_info": {
   "name": "python"
  }
 },
 "nbformat": 4,
 "nbformat_minor": 2
}
