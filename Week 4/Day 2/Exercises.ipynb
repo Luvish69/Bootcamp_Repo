{
 "cells": [
  {
   "cell_type": "code",
   "execution_count": 2,
   "metadata": {},
   "outputs": [
    {
     "name": "stdout",
     "output_type": "stream",
     "text": [
      "I am learning Python functions in this course.\n"
     ]
    }
   ],
   "source": [
    "# Exercise 1\n",
    "\n",
    "def display_message():\n",
    "    print(\"I am learning Python functions in this course.\")\n",
    "\n",
    "display_message()"
   ]
  },
  {
   "cell_type": "code",
   "execution_count": 7,
   "metadata": {},
   "outputs": [
    {
     "name": "stdout",
     "output_type": "stream",
     "text": [
      "One of my favorite books is Goosebumps\n"
     ]
    }
   ],
   "source": [
    "# Exercise 2\n",
    "\n",
    "def favorite_book(title):\n",
    "    print(f\"One of my favorite books is {title}\")\n",
    "    \n",
    "favorite_book(\"Goosebumps\")"
   ]
  },
  {
   "cell_type": "code",
   "execution_count": 10,
   "metadata": {},
   "outputs": [
    {
     "name": "stdout",
     "output_type": "stream",
     "text": [
      "Port Louis is in Mauritius\n"
     ]
    }
   ],
   "source": [
    "# Exercise 3\n",
    "\n",
    "def describe_city(city, country='Mauritius'):\n",
    "    print(f\"{city} is in {country}\")\n",
    "    \n",
    "describe_city(\"Port Louis\")"
   ]
  },
  {
   "cell_type": "code",
   "execution_count": 32,
   "metadata": {},
   "outputs": [
    {
     "name": "stdout",
     "output_type": "stream",
     "text": [
      "Fail! Your number: 20, Random number: 94.\n"
     ]
    }
   ],
   "source": [
    "import random\n",
    "\n",
    "def compare_numbers(user_number):\n",
    "    if 1 <= user_number <= 100:\n",
    "        random_number = random.randint(1, 100)\n",
    "        if user_number == random_number:\n",
    "            print(f\"Success! Both numbers are {user_number}.\")\n",
    "        else:\n",
    "            print(f\"Fail! Your number: {user_number}, Random number: {random_number}.\")\n",
    "    else:\n",
    "        print(\"Please enter a number between 1 and 100.\")\n",
    "        \n",
    "compare_numbers(20)"
   ]
  },
  {
   "cell_type": "code",
   "execution_count": 17,
   "metadata": {},
   "outputs": [
    {
     "name": "stdout",
     "output_type": "stream",
     "text": [
      "The size of the shirt is 22 and the text is One Piece\n",
      "The size of the shirt is large and the text is I love Python\n",
      "The size of the shirt is Medium and the text is I love Python\n",
      "The size of the shirt is Small and the text is I love Python\n"
     ]
    }
   ],
   "source": [
    "# Exercise 5\n",
    "\n",
    "def make_shirt(size, text):\n",
    "    print(f\"The size of the shirt is {size} and the text is {text}\")\n",
    "    \n",
    "make_shirt(22, \"One Piece\")\n",
    "\n",
    "def make_shirt(size='large', text='I love Python'):\n",
    "    print(f\"The size of the shirt is {size} and the text is {text}\")\n",
    "\n",
    "make_shirt()\n",
    "\n",
    "make_shirt(size='Medium')\n",
    "make_shirt(size='Small')"
   ]
  },
  {
   "cell_type": "code",
   "execution_count": 25,
   "metadata": {},
   "outputs": [
    {
     "name": "stdout",
     "output_type": "stream",
     "text": [
      "Harry Houdini\n",
      "David Blaine\n",
      "Criss Angel\n"
     ]
    }
   ],
   "source": [
    "# Exercise 6\n",
    "\n",
    "magician_names = ['Harry Houdini', 'David Blaine', 'Criss Angel']\n",
    "\n",
    "def show_magicians(magicians):\n",
    "    for magician in magicians:\n",
    "        print(magician)\n",
    "show_magicians(magician_names)"
   ]
  }
 ],
 "metadata": {
  "kernelspec": {
   "display_name": "Python 3",
   "language": "python",
   "name": "python3"
  },
  "language_info": {
   "codemirror_mode": {
    "name": "ipython",
    "version": 3
   },
   "file_extension": ".py",
   "mimetype": "text/x-python",
   "name": "python",
   "nbconvert_exporter": "python",
   "pygments_lexer": "ipython3",
   "version": "3.11.9"
  }
 },
 "nbformat": 4,
 "nbformat_minor": 2
}
