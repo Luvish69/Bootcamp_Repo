{
 "cells": [
  {
   "cell_type": "code",
   "execution_count": 1,
   "metadata": {},
   "outputs": [
    {
     "name": "stdout",
     "output_type": "stream",
     "text": [
      "Total throws: 584\n",
      "Average throws to reach doubles: 5.84\n"
     ]
    }
   ],
   "source": [
    "import random\n",
    "\n",
    "def throw_dice():\n",
    "    return random.randint(1, 6)\n",
    "\n",
    "def throw_until_doubles():\n",
    "    count = 0\n",
    "    while True:\n",
    "        dice1 = throw_dice()\n",
    "        dice2 = throw_dice()\n",
    "        count += 1\n",
    "        if dice1 == dice2:\n",
    "            return count\n",
    "\n",
    "def main():\n",
    "    results = []\n",
    "    total_throws = 0\n",
    "    \n",
    "    for _ in range(100):\n",
    "        throws = throw_until_doubles()\n",
    "        results.append(throws)\n",
    "        total_throws += throws\n",
    "    \n",
    "    average_throws = total_throws / len(results)\n",
    "    \n",
    "    print(f\"Total throws: {total_throws}\")\n",
    "    print(f\"Average throws to reach doubles: {average_throws:.2f}\")\n",
    "\n",
    "main()"
   ]
  }
 ],
 "metadata": {
  "kernelspec": {
   "display_name": "Python 3",
   "language": "python",
   "name": "python3"
  },
  "language_info": {
   "codemirror_mode": {
    "name": "ipython",
    "version": 3
   },
   "file_extension": ".py",
   "mimetype": "text/x-python",
   "name": "python",
   "nbconvert_exporter": "python",
   "pygments_lexer": "ipython3",
   "version": "3.11.9"
  }
 },
 "nbformat": 4,
 "nbformat_minor": 2
}
