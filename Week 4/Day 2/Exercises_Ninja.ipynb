{
 "cells": [
  {
   "cell_type": "code",
   "execution_count": 2,
   "metadata": {},
   "outputs": [
    {
     "name": "stdout",
     "output_type": "stream",
     "text": [
      "******************\n",
      "* Hello          *\n",
      "* World          *\n",
      "* in             *\n",
      "* reallylongword *\n",
      "* a              *\n",
      "* frame          *\n",
      "******************\n"
     ]
    }
   ],
   "source": [
    "# 1\n",
    "\n",
    "def box_printer(*strings):\n",
    "\n",
    "    max_length = max(len(s) for s in strings)\n",
    "    print('*' * (max_length + 4))\n",
    "    \n",
    "    for s in strings:\n",
    "        print(f'* {s:<{max_length}} *')\n",
    "    \n",
    "    print('*' * (max_length + 4))\n",
    "\n",
    "box_printer(\"Hello\", \"World\", \"in\", \"reallylongword\", \"a\", \"frame\")\n"
   ]
  },
  {
   "cell_type": "code",
   "execution_count": 3,
   "metadata": {},
   "outputs": [
    {
     "name": "stdout",
     "output_type": "stream",
     "text": [
      "[17, 20, 26, 31, 44, 54, 55, 77, 93]\n"
     ]
    }
   ],
   "source": [
    "def insertion_sort(alist):\n",
    "   for index in range(1,len(alist)):\n",
    "\n",
    "     currentvalue = alist[index]\n",
    "     position = index\n",
    "\n",
    "     while position>0 and alist[position-1]>currentvalue:\n",
    "         alist[position]=alist[position-1]\n",
    "         position = position-1\n",
    "\n",
    "     alist[position]=currentvalue\n",
    "\n",
    "alist = [54,26,93,17,77,31,44,55,20]\n",
    "insertion_sort(alist)\n",
    "print(alist)"
   ]
  }
 ],
 "metadata": {
  "kernelspec": {
   "display_name": "Python 3",
   "language": "python",
   "name": "python3"
  },
  "language_info": {
   "codemirror_mode": {
    "name": "ipython",
    "version": 3
   },
   "file_extension": ".py",
   "mimetype": "text/x-python",
   "name": "python",
   "nbconvert_exporter": "python",
   "pygments_lexer": "ipython3",
   "version": "3.11.9"
  }
 },
 "nbformat": 4,
 "nbformat_minor": 2
}
