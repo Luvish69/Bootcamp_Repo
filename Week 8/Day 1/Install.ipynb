{
 "cells": [
  {
   "cell_type": "code",
   "execution_count": 17,
   "metadata": {},
   "outputs": [
    {
     "name": "stdout",
     "output_type": "stream",
     "text": [
      "Sucessfully connected to the database\n"
     ]
    }
   ],
   "source": [
    "import psycopg2\n",
    "def connection(db_name, db_user,db_password,db_host,db_port):\n",
    "    try:\n",
    "        conn = psycopg2.connect(\n",
    "            dbname=db_name,\n",
    "            user=db_user,\n",
    "            password=db_password,\n",
    "            host=db_host,\n",
    "            port=db_port\n",
    "        )\n",
    "        print('Sucessfully connected to the database')\n",
    "        return conn\n",
    "    except Exception as e:\n",
    "        print(e)\n",
    "        return None\n",
    "\n",
    "params={\n",
    "    \"db_name\": \"Bootcamp\",\n",
    "    \"db_user\": \"Bootcamp_owner\",\n",
    "    \"db_password\": 'PO6YLp0ZFGsq',\n",
    "    \"db_host\": 'ep-little-dust-a5qk09yd.us-east-2.aws.neon.tech',\n",
    "    \"db_port\": 5432\n",
    "}\n",
    "conn=connection(**params)\n",
    "conn.autocommit=True"
   ]
  },
  {
   "cell_type": "code",
   "execution_count": 18,
   "metadata": {},
   "outputs": [],
   "source": [
    "def execute_query(conn, query):\n",
    "    try:\n",
    "        cursor = conn.cursor()\n",
    "        cursor.execute(query)\n",
    "        # print('Query executed successfully')\n",
    "        return cursor\n",
    "    except Exception as e:\n",
    "        print(f\"Error: {str(e)}\")\n",
    "        return None"
   ]
  },
  {
   "cell_type": "code",
   "execution_count": 19,
   "metadata": {},
   "outputs": [
    {
     "name": "stdout",
     "output_type": "stream",
     "text": [
      "(0, 'Tom', 'curepipe', 'test@gmail.com', '1234', True)\n",
      "(2, 'Paul', 'Floreal', 'paul@gmail.com', '12345', False)\n"
     ]
    }
   ],
   "source": [
    "query=\"SELECT * FROM users\"\n",
    "results = execute_query(conn, query).fetchall()\n",
    "for result in results:\n",
    "    print(result)"
   ]
  },
  {
   "cell_type": "code",
   "execution_count": 20,
   "metadata": {},
   "outputs": [
    {
     "name": "stdout",
     "output_type": "stream",
     "text": [
      "Error: relation \"movies\" already exists\n",
      "\n"
     ]
    }
   ],
   "source": [
    "query = \"CREATE TABLE Movies(id integer primary key, Movie varchar(100) not null, Release varchar(100), Genre varchar(100), Rating integer); \"\n",
    "results = execute_query(conn,query)"
   ]
  },
  {
   "cell_type": "code",
   "execution_count": 24,
   "metadata": {},
   "outputs": [],
   "source": [
    "query = \"ALTER TABLE Movies ALTER COLUMN Rating TYPE VARCHAR; \"\n",
    "results = execute_query(conn,query)"
   ]
  },
  {
   "cell_type": "code",
   "execution_count": 27,
   "metadata": {},
   "outputs": [],
   "source": [
    "query = \"\"\"\n",
    "INSERT INTO Movies (id, Movie, Release, Genre, Rating)\n",
    "VALUES (2, 'Drive', '2011-10-01', 'Action', '4/5');\n",
    "\"\"\"\n",
    "results = execute_query(conn,query)"
   ]
  },
  {
   "cell_type": "code",
   "execution_count": 28,
   "metadata": {},
   "outputs": [],
   "source": [
    "query = \"INSERT INTO Movies (id, Movie, Release, Genre, Rating) VALUES (3, 'Nosferatu', '1922-03-22', 'Gothic Horror', '5/5'); \"\n",
    "\n",
    "results = execute_query(conn,query)"
   ]
  },
  {
   "cell_type": "code",
   "execution_count": 30,
   "metadata": {},
   "outputs": [],
   "source": [
    "query = \"SELECT id, Movie, Release, Genre, Rating FROM Movies ORDER BY Release ASC; \"\n",
    "results = execute_query(conn,query)"
   ]
  },
  {
   "cell_type": "code",
   "execution_count": 31,
   "metadata": {},
   "outputs": [],
   "source": [
    "query = \"SELECT id, Movie, Release, Genre, Rating FROM Movies ORDER BY Release DESC; \"\n",
    "results = execute_query(conn,query)"
   ]
  },
  {
   "cell_type": "code",
   "execution_count": null,
   "metadata": {},
   "outputs": [],
   "source": [
    "query = \"ALTER TABLE Movies MODIFY COLUMN Release datatype; \"\n",
    "results = execute_query(conn,query)"
   ]
  }
 ],
 "metadata": {
  "kernelspec": {
   "display_name": "Python 3",
   "language": "python",
   "name": "python3"
  },
  "language_info": {
   "codemirror_mode": {
    "name": "ipython",
    "version": 3
   },
   "file_extension": ".py",
   "mimetype": "text/x-python",
   "name": "python",
   "nbconvert_exporter": "python",
   "pygments_lexer": "ipython3",
   "version": "3.11.9"
  }
 },
 "nbformat": 4,
 "nbformat_minor": 2
}
