{
 "cells": [
  {
   "cell_type": "code",
   "execution_count": null,
   "metadata": {},
   "outputs": [
    {
     "name": "stdout",
     "output_type": "stream",
     "text": [
      "Autumn is the season for month 10.\n"
     ]
    }
   ],
   "source": [
    "month = int(input(\"Input a month(1-12): \"))\n",
    "\n",
    "if month in [3, 4, 5]:\n",
    "    season = \"Spring\"\n",
    "elif month in [6, 7, 8]:\n",
    "    season = \"Summer\"\n",
    "elif month in [9, 10, 11]:\n",
    "    season = \"Autumn\"\n",
    "elif month in [12, 1, 2]:\n",
    "    season = \"Winter\"\n",
    "else:\n",
    "    print(\"Invalid input. Please enter a number between 1 and 12.\")\n",
    "\n",
    "print(f\"{season} is the season for month {month}.\")"
   ]
  },
  {
   "cell_type": "code",
   "execution_count": null,
   "metadata": {},
   "outputs": [
    {
     "name": "stdout",
     "output_type": "stream",
     "text": [
      "Hello world\n",
      "Hello world\n",
      "Hello world\n",
      "Hello world\n",
      "I love Python\n",
      "I love Python\n",
      "I love Python\n",
      "I love Python\n",
      "\n"
     ]
    }
   ],
   "source": [
    "print(\"Hello world\\n\" * 4 + \"I love Python\\n\" * 4 )"
   ]
  }
 ],
 "metadata": {
  "language_info": {
   "name": "python"
  }
 },
 "nbformat": 4,
 "nbformat_minor": 2
}
