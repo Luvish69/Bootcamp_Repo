{
 "cells": [
  {
   "cell_type": "code",
   "execution_count": 3,
   "metadata": {},
   "outputs": [
    {
     "name": "stdout",
     "output_type": "stream",
     "text": [
      "[1, 2, 3, 4, 5, 6]\n"
     ]
    }
   ],
   "source": [
    "#Exercise 1\n",
    "\n",
    "list1 = [1,2,3]\n",
    "list2 = [4,5,6]\n",
    "\n",
    "list1.extend (list2)\n",
    "print(list1)"
   ]
  },
  {
   "cell_type": "code",
   "execution_count": null,
   "metadata": {},
   "outputs": [],
   "source": [
    "#Exercise 2\n",
    "\n",
    "for i in range(1500, 2501):\n",
    "    if i%5==0 and i%7==0:\n",
    "        print(i)"
   ]
  },
  {
   "cell_type": "code",
   "execution_count": 12,
   "metadata": {},
   "outputs": [
    {
     "name": "stdout",
     "output_type": "stream",
     "text": [
      "Luvish is not in the list.\n"
     ]
    }
   ],
   "source": [
    "#Exercise 3\n",
    "\n",
    "names = ['Samus', 'Cortana', 'V', 'Link', 'Mario', 'Cortana', 'Samus']\n",
    "\n",
    "User_name = input (\"Please write your name: \")\n",
    "\n",
    "if User_name in names :\n",
    "   print(f\"The index of {User_name} is: {names.index(User_name)}\")\n",
    "else:\n",
    "   print(f\"{User_name} is not in the list.\")"
   ]
  },
  {
   "cell_type": "code",
   "execution_count": 13,
   "metadata": {},
   "outputs": [
    {
     "name": "stdout",
     "output_type": "stream",
     "text": [
      "The greatest number is: 95\n"
     ]
    }
   ],
   "source": [
    "#Exercise 4\n",
    "\n",
    "num1 = (input(\"Please enter the first number: \"))\n",
    "num2 = (input(\"Please enter the second number: \"))\n",
    "num3 = (input(\"Please enter the third number: \"))\n",
    "\n",
    "greatest = max(num1, num2, num3)\n",
    "\n",
    "print(f\"The greatest number is: {greatest}\")"
   ]
  },
  {
   "cell_type": "code",
   "execution_count": null,
   "metadata": {},
   "outputs": [],
   "source": [
    "alphabet = 'abcdefghijklmnopqrstuvwxyz'\n",
    "\n",
    "for letter in alphabet:\n",
    "    if letter in 'aeiou':\n",
    "        print(f'{letter} is a vowel.')\n",
    "    else:\n",
    "        print(f'{letter} is a consonant.')"
   ]
  },
  {
   "cell_type": "code",
   "execution_count": null,
   "metadata": {},
   "outputs": [],
   "source": [
    "words = []\n",
    "for i in range(7):\n",
    "    word = input(f\"Enter word {i + 1}: \")\n",
    "    words.append(word)\n",
    "\n",
    "letter = input(\"Enter a single character: \")\n",
    "\n",
    "for word in words:\n",
    "    \n",
    "\n"
   ]
  },
  {
   "cell_type": "code",
   "execution_count": null,
   "metadata": {},
   "outputs": [],
   "source": []
  }
 ],
 "metadata": {
  "kernelspec": {
   "display_name": "Python 3",
   "language": "python",
   "name": "python3"
  },
  "language_info": {
   "codemirror_mode": {
    "name": "ipython",
    "version": 3
   },
   "file_extension": ".py",
   "mimetype": "text/x-python",
   "name": "python",
   "nbconvert_exporter": "python",
   "pygments_lexer": "ipython3",
   "version": "3.11.9"
  }
 },
 "nbformat": 4,
 "nbformat_minor": 2
}
