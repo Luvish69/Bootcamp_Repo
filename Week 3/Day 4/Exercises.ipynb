{
 "cells": [
  {
   "cell_type": "code",
   "execution_count": 4,
   "metadata": {},
   "outputs": [
    {
     "name": "stdout",
     "output_type": "stream",
     "text": [
      "{1, 2, 3, 4, 5, 6, 7, 8, 9, 10, 11, 12, 14, 16}\n"
     ]
    }
   ],
   "source": [
    "#exercise 1\n",
    "\n",
    "my_fav_numbers = {2,4,6,8,10,12,14}\n",
    "\n",
    "my_fav_numbers.add(16)\n",
    "my_fav_numbers.add(18)\n",
    "\n",
    "my_fav_numbers.remove(18)\n",
    "\n",
    "friend_fav_numbers = {1,3,5,7,9,11}\n",
    "\n",
    "our_fav_numbers = my_fav_numbers.union(friend_fav_numbers)\n",
    "\n",
    "print(our_fav_numbers)"
   ]
  },
  {
   "cell_type": "code",
   "execution_count": 22,
   "metadata": {},
   "outputs": [
    {
     "name": "stdout",
     "output_type": "stream",
     "text": [
      "['Apples', 'Apples', 'Oranges', 'Kiwi']\n",
      "[]\n"
     ]
    }
   ],
   "source": [
    "#Exercise 3\n",
    "\n",
    "basket = [\"Banana\", \"Apples\", \"Oranges\", \"Blueberries\"]\n",
    "\n",
    "basket.remove('Banana')\n",
    "basket.remove('Blueberries')\n",
    "basket.insert(2, 'Kiwi')\n",
    "basket.insert(0, \"Apples\")\n",
    "basket.count(\"Apples\")\n",
    "\n",
    "print(basket)\n",
    "\n",
    "basket.clear()\n",
    "print(basket)\n"
   ]
  },
  {
   "cell_type": "code",
   "execution_count": null,
   "metadata": {},
   "outputs": [],
   "source": [
    "#Exercise 5\n",
    "\n",
    "for num in range(1,21):\n",
    "    print(num)\n",
    "    \n",
    "for i in range(1, 21, 2):\n",
    "    print(i)"
   ]
  },
  {
   "cell_type": "code",
   "execution_count": 43,
   "metadata": {},
   "outputs": [
    {
     "name": "stdout",
     "output_type": "stream",
     "text": [
      "Hello Ashwin, Please try again\n",
      "Hello Ashwin, Please try again\n",
      "Hello, we have the same name!.\n"
     ]
    }
   ],
   "source": [
    "#Exercise 6\n",
    "\n",
    "my_name = 'Luvish'\n",
    "\n",
    "while True:\n",
    "    user_name = input (\"Please input your name: \")\n",
    "\n",
    "    if user_name == my_name:\n",
    "        print('Hello, we have the same name!.')\n",
    "        break\n",
    "\n",
    "    else:\n",
    "        print(f'Hello {user_name}, Please try again')\n"
   ]
  },
  {
   "cell_type": "code",
   "execution_count": null,
   "metadata": {},
   "outputs": [],
   "source": [
    "#Exercise 7\n",
    "\n",
    "user_input = input (\"Please enter your favorite fruit(s), separated by a single space:\")\n",
    "\n",
    "favourite_fruits = user_input.split()\n",
    "\n",
    "print(favourite_fruits)\n",
    "\n",
    "chosen_fruit = input ('Please enter a fruit: ')\n",
    "\n",
    "if chosen_fruit == favourite_fruits:\n",
    "    print('You chose one of your favorite fruits! Enjoy!')\n",
    "else:\n",
    "    print('You chose a new fruit. I hope you enjoy')\n",
    "    "
   ]
  },
  {
   "cell_type": "code",
   "execution_count": null,
   "metadata": {},
   "outputs": [],
   "source": [
    "#Exercise 8\n",
    "\n",
    "toppings_input = input (\"Input a pizza topping(enter 'quit' to finish): \")"
   ]
  }
 ],
 "metadata": {
  "kernelspec": {
   "display_name": "Python 3",
   "language": "python",
   "name": "python3"
  },
  "language_info": {
   "codemirror_mode": {
    "name": "ipython",
    "version": 3
   },
   "file_extension": ".py",
   "mimetype": "text/x-python",
   "name": "python",
   "nbconvert_exporter": "python",
   "pygments_lexer": "ipython3",
   "version": "3.11.9"
  }
 },
 "nbformat": 4,
 "nbformat_minor": 2
}
